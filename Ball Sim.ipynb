{
 "cells": [
  {
   "cell_type": "code",
   "execution_count": 1,
   "metadata": {},
   "outputs": [
    {
     "name": "stdout",
     "output_type": "stream",
     "text": [
      "# ==========================================================\n",
      "# = Solver Results                                         =\n",
      "# ==========================================================\n",
      "# ----------------------------------------------------------\n",
      "#   Problem Information\n",
      "# ----------------------------------------------------------\n",
      "Problem: \n",
      "- Lower bound: -inf\n",
      "  Upper bound: inf\n",
      "  Number of objectives: 1\n",
      "  Number of constraints: 306\n",
      "  Number of variables: 408\n",
      "  Sense: unknown\n",
      "# ----------------------------------------------------------\n",
      "#   Solver Information\n",
      "# ----------------------------------------------------------\n",
      "Solver: \n",
      "- Status: ok\n",
      "  Message: Ipopt 3.13.2\\x3a Optimal Solution Found\n",
      "  Termination condition: optimal\n",
      "  Id: 0\n",
      "  Error rc: 0\n",
      "  Time: 0.20060205459594727\n",
      "# ----------------------------------------------------------\n",
      "#   Solution Information\n",
      "# ----------------------------------------------------------\n",
      "Solution: \n",
      "- number of solutions: 0\n",
      "  number of solutions displayed: 0\n"
     ]
    },
    {
     "data": {
      "image/png": "[encoded data removed]",
      "text/plain": [
       "<Figure size 432x288 with 1 Axes>"
      ]
     },
     "metadata": {
      "needs_background": "light"
     },
     "output_type": "display_data"
    },
    {
     "data": {
      "image/png": "[encoded data removed]",
      "text/plain": [
       "<Figure size 432x288 with 1 Axes>"
      ]
     },
     "metadata": {
      "needs_background": "light"
     },
     "output_type": "display_data"
    },
    {
     "data": {
      "image/png": "[encoded data removed]",
      "text/plain": [
       "<Figure size 432x288 with 1 Axes>"
      ]
     },
     "metadata": {
      "needs_background": "light"
     },
     "output_type": "display_data"
    }
   ],
   "source": [
    "import numpy as np\n",
    "from scipy.integrate import solve_ivp\n",
    "import matplotlib.pyplot as plt\n",
    "from numpy.linalg import norm\n",
    "import pyomo.environ as pyo\n",
    "\n",
    "N = 50\n",
    "g = 9.81 # gravitational acceleration, m/s^2\n",
    "m = 2.7/1000 # ball mass, kg\n",
    "e = 0.9 # coeff of restitution\n",
    "model = pyo.ConcreteModel()\n",
    "\n",
    "nx = 3\n",
    "nu = 2\n",
    "\n",
    "model.tidx = pyo.Set(initialize=range(0, N+1)) # length of finite optimization problem\n",
    "model.xidx = pyo.Set(initialize=range(0, nx))\n",
    "model.uidx = pyo.Set(initialize=range(0, nu))\n",
    "\n",
    "\n",
    "# create state trajectory variables\n",
    "model.z = pyo.Var(model.xidx, model.tidx)\n",
    "model.u = pyo.Var(model.uidx, model.tidx)\n",
    "model.y = pyo.Var(model.tidx)\n",
    "model.vb_post = pyo.Var(model.uidx, model.tidx)\n",
    "\n",
    "x0 = np.array([-1, -1, -10])\n",
    "yd = 10\n",
    "\n",
    "model.obj = pyo.Objective(expr=sum((model.z[0, t])**2 + (model.y[t] - yd)**2 + (model.z[1, t])**2\n",
    "                                    for t in model.tidx if t <= N), sense=pyo.minimize)\n",
    "\n",
    "model.init_constraint = pyo.Constraint(model.xidx, rule=lambda model, i: model.z[i, 0] == x0[i])\n",
    "\n",
    "\n",
    "model.vb1_post_constraint = pyo.Constraint(model.tidx, rule=lambda model, i: model.vb_post[0,i] == model.z[2,i]*(pyo.cos(model.u[1,i])*pyo.sin(model.u[1,i])\n",
    "                                           + e*pyo.cos(model.u[1,i])*pyo.sin(model.u[1,i])) - model.z[1,i]*(e*(pyo.sin(model.u[1,i])**2) - pyo.cos(model.u[1,i])**2)\n",
    "                                           - model.u[0,i]*(pyo.cos(model.u[1,i])*pyo.sin(model.u[1,i]) + e*pyo.cos(model.u[1,i])*pyo.sin(model.u[1,i])))\n",
    "model.vb2_post_constraint = pyo.Constraint(model.tidx, rule=lambda model, i: model.vb_post[1,i] == model.z[2,i]*(pyo.sin(model.u[1,i])**2 - e*(pyo.cos(model.u[1,i])**2))\n",
    "                                           + model.u[0,i]*(e*(pyo.cos(model.u[1,i])**2) - pyo.sin(model.u[1,i])**2 + 1)\n",
    "                                           + model.z[1,0]*(pyo.cos(model.u[1,i])*pyo.sin(model.u[1,i]) + e*pyo.cos(model.u[1,i])*pyo.sin(model.u[1,i])))\n",
    "\n",
    "model.output_constraint = pyo.Constraint(model.tidx, rule=lambda model, i: model.y[i] == 0.5*(model.vb_post[1, i]**2)/g)\n",
    "\n",
    "model.state1_constraint = pyo.Constraint(model.tidx, rule=lambda model, i: model.z[0, i + 1] == model.z[0, i] + 2*model.vb_post[0, i]*model.vb_post[1, i]/g\n",
    "                                         if i <= N - 1 else pyo.Constraint.Skip)\n",
    "model.state2_constraint = pyo.Constraint(model.tidx, rule=lambda model, i: model.z[1, i + 1] == model.vb_post[0, i]\n",
    "                                         if i <= N - 1 else pyo.Constraint.Skip)\n",
    "model.state3_constraint = pyo.Constraint(model.tidx, rule=lambda model, i: model.z[2, i + 1] == -model.vb_post[1, i]\n",
    "                                         if i <= N - 1 else pyo.Constraint.Skip)\n",
    "\n",
    "results = pyo.SolverFactory('ipopt').solve(model).write()\n",
    "\n",
    "z1 = [pyo.value(model.z[0,0])]\n",
    "z2 = [pyo.value(model.z[1,0])]\n",
    "y = [pyo.value(model.y[0])]\n",
    "u1 = [pyo.value(model.u[0,0])]\n",
    "u2 = [pyo.value(model.u[1,0])]\n",
    "\n",
    "for t in model.tidx:\n",
    "    if t < N:\n",
    "        z1.append(pyo.value(model.z[0,t+1]))\n",
    "        z2.append(pyo.value(model.z[1,t+1]))\n",
    "        y.append(pyo.value(model.y[t+1]))\n",
    "    if t < N-1:\n",
    "        u1.append(pyo.value(model.u[0,t+1]))\n",
    "        u2.append(pyo.value(model.u[1,t+1]))\n",
    "        \n",
    "plt.figure()\n",
    "plt.plot(z1)\n",
    "plt.figure()\n",
    "plt.plot(z2)\n",
    "plt.figure()\n",
    "plt.plot(y)\n",
    "plt.show()"
   ]
  },
  {
   "cell_type": "code",
   "execution_count": 5,
   "metadata": {},
   "outputs": [
    {
     "name": "stdout",
     "output_type": "stream",
     "text": [
      "[array([2.8563955])]\n",
      "[array([], dtype=float64)]\n"
     ]
    },
    {
     "ename": "IndexError",
     "evalue": "index 0 is out of bounds for axis 0 with size 0",
     "output_type": "error",
     "traceback": [
      "\u001b[0;31m---------------------------------------------------------------------------\u001b[0m",
      "\u001b[0;31mIndexError\u001b[0m                                Traceback (most recent call last)",
      "\u001b[0;32m<ipython-input-5-d8fe00d5ab87>\u001b[0m in \u001b[0;36m<module>\u001b[0;34m\u001b[0m\n\u001b[1;32m     23\u001b[0m     \u001b[0msol\u001b[0m \u001b[0;34m=\u001b[0m \u001b[0msolve_ivp\u001b[0m\u001b[0;34m(\u001b[0m\u001b[0mball_ode\u001b[0m\u001b[0;34m,\u001b[0m \u001b[0;34m(\u001b[0m\u001b[0;36m0\u001b[0m\u001b[0;34m,\u001b[0m \u001b[0;36m100\u001b[0m\u001b[0;34m)\u001b[0m\u001b[0;34m,\u001b[0m \u001b[0mz0\u001b[0m\u001b[0;34m,\u001b[0m \u001b[0mevents\u001b[0m\u001b[0;34m=\u001b[0m\u001b[0mball_bounce\u001b[0m\u001b[0;34m,\u001b[0m \u001b[0mdense_output\u001b[0m\u001b[0;34m=\u001b[0m\u001b[0;32mTrue\u001b[0m\u001b[0;34m)\u001b[0m\u001b[0;34m\u001b[0m\u001b[0;34m\u001b[0m\u001b[0m\n\u001b[1;32m     24\u001b[0m     \u001b[0mprint\u001b[0m\u001b[0;34m(\u001b[0m\u001b[0msol\u001b[0m\u001b[0;34m.\u001b[0m\u001b[0mt_events\u001b[0m\u001b[0;34m)\u001b[0m\u001b[0;34m\u001b[0m\u001b[0;34m\u001b[0m\u001b[0m\n\u001b[0;32m---> 25\u001b[0;31m     \u001b[0mt\u001b[0m \u001b[0;34m=\u001b[0m \u001b[0mnp\u001b[0m\u001b[0;34m.\u001b[0m\u001b[0mlinspace\u001b[0m\u001b[0;34m(\u001b[0m\u001b[0;36m0\u001b[0m\u001b[0;34m,\u001b[0m \u001b[0msol\u001b[0m\u001b[0;34m.\u001b[0m\u001b[0mt_events\u001b[0m\u001b[0;34m[\u001b[0m\u001b[0;36m0\u001b[0m\u001b[0;34m]\u001b[0m\u001b[0;34m[\u001b[0m\u001b[0;36m0\u001b[0m\u001b[0;34m]\u001b[0m\u001b[0;34m,\u001b[0m \u001b[0;36m20\u001b[0m\u001b[0;34m)\u001b[0m\u001b[0;34m\u001b[0m\u001b[0;34m\u001b[0m\u001b[0m\n\u001b[0m\u001b[1;32m     26\u001b[0m     \u001b[0mx\u001b[0m \u001b[0;34m=\u001b[0m \u001b[0msol\u001b[0m\u001b[0;34m.\u001b[0m\u001b[0msol\u001b[0m\u001b[0;34m(\u001b[0m\u001b[0mt\u001b[0m\u001b[0;34m)\u001b[0m\u001b[0;34m\u001b[0m\u001b[0;34m\u001b[0m\u001b[0m\n\u001b[1;32m     27\u001b[0m     \u001b[0mplt\u001b[0m\u001b[0;34m.\u001b[0m\u001b[0mplot\u001b[0m\u001b[0;34m(\u001b[0m\u001b[0mx\u001b[0m\u001b[0;34m[\u001b[0m\u001b[0;36m0\u001b[0m\u001b[0;34m]\u001b[0m\u001b[0;34m,\u001b[0m \u001b[0mx\u001b[0m\u001b[0;34m[\u001b[0m\u001b[0;36m1\u001b[0m\u001b[0;34m]\u001b[0m\u001b[0;34m)\u001b[0m\u001b[0;34m\u001b[0m\u001b[0;34m\u001b[0m\u001b[0m\n",
      "\u001b[0;31mIndexError\u001b[0m: index 0 is out of bounds for axis 0 with size 0"
     ]
    },
    {
     "data": {
      "image/png": "[encoded data removed]",
      "text/plain": [
       "<Figure size 432x288 with 1 Axes>"
      ]
     },
     "metadata": {
      "needs_background": "light"
     },
     "output_type": "display_data"
    }
   ],
   "source": [
    "def ball_ode(t, x):\n",
    "    # x = [x_b, y_b, vx_b, vy_b]\n",
    "    return np.array([x[2], x[3], 0, -g])\n",
    "\n",
    "def ball_bounce(t, x):\n",
    "    return x[1]\n",
    "    \n",
    "ball_bounce.terminal = True\n",
    "ball_bounce.direction = -1\n",
    "\n",
    "N = 10\n",
    "x_full = []\n",
    "\n",
    "A = np.array([[1, 0], [0, -e]])\n",
    "R = np.array([[np.cos(u2[0]), -np.sin(u2[0])], [np.sin(u2[0]), np.cos(u2[0])]])\n",
    "A_bar = R@A@R.T\n",
    "vp = np.array([0, u1[0]])\n",
    "vb_0 = x0[1:3]\n",
    "vb_0_post = (np.eye(2) - A_bar)@vp + A_bar@vb_0\n",
    "z0 = np.array([x0[0], 0, vb_0_post[0], vb_0_post[1]])\n",
    "plt.figure()\n",
    "for i in range(N):\n",
    "    sol = solve_ivp(ball_ode, (0, 100), z0, events=ball_bounce, dense_output=True)\n",
    "    t = np.linspace(0, sol.t_events[0][0], 20)\n",
    "    x = sol.sol(t)\n",
    "    plt.plot(x[0], x[1])\n",
    "    z0 = x[:,-1]\n",
    "    R = np.array([[np.cos(u2[i+1]), -np.sin(u2[i+1])], [np.sin(u2[i+1]), np.cos(u2[i+1])]])\n",
    "    A_bar = R@A@R.T\n",
    "    vp = np.array([0, u1[i + 1]])\n",
    "    vb_post = (np.eye(2) - A_bar)@vp + A_bar@z0[2:4]\n",
    "    z0[2] = vb_post[0]\n",
    "    z0[3] = vb_post[1]\n",
    "    \n",
    "plt.show()\n",
    "\n"
   ]
  },
  {
   "cell_type": "code",
   "execution_count": null,
   "metadata": {},
   "outputs": [],
   "source": []
  }
 ],
 "metadata": {
  "kernelspec": {
   "display_name": "Python 3",
   "language": "python",
   "name": "python3"
  },
  "language_info": {
   "codemirror_mode": {
    "name": "ipython",
    "version": 3
   },
   "file_extension": ".py",
   "mimetype": "text/x-python",
   "name": "python",
   "nbconvert_exporter": "python",
   "pygments_lexer": "ipython3",
   "version": "3.8.5"
  }
 },
 "nbformat": 4,
 "nbformat_minor": 4
}
